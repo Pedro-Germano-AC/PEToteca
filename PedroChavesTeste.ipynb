{
  "cells": [
    {
      "cell_type": "markdown",
      "metadata": {
        "colab_type": "text",
        "id": "view-in-github"
      },
      "source": [
        "<a href=\"https://colab.research.google.com/github/Pedro-Augusto-Chaves/PEToteca/blob/main/PedroChavesTeste.ipynb\" target=\"_parent\"><img src=\"https://colab.research.google.com/assets/colab-badge.svg\" alt=\"Open In Colab\"/></a>"
      ]
    },
    {
      "cell_type": "code",
      "execution_count": null,
      "metadata": {
        "colab": {
          "base_uri": "https://localhost:8080/"
        },
        "id": "QY76PYiKgTed",
        "outputId": "feffca76-e1e6-4b34-8a39-2184a07d8428"
      },
      "outputs": [
        {
          "name": "stdout",
          "output_type": "stream",
          "text": [
            "Mounted at /content/gdrive\n"
          ]
        }
      ],
      "source": [
        "from google.colab import drive\n",
        "drive.mount('/content/gdrive')"
      ]
    },
    {
      "cell_type": "code",
      "execution_count": null,
      "metadata": {
        "colab": {
          "base_uri": "https://localhost:8080/"
        },
        "id": "sLA6qgQPEitC",
        "outputId": "07b34191-a80f-4d07-f92b-ea51cacbde34"
      },
      "outputs": [
        {
          "name": "stderr",
          "output_type": "stream",
          "text": [
            "/usr/local/lib/python3.7/dist-packages/openpyxl/worksheet/_reader.py:312: UserWarning: Unknown extension is not supported and will be removed\n",
            "  warn(msg)\n"
          ]
        },
        {
          "name": "stdout",
          "output_type": "stream",
          "text": [
            "Digite o código do livro: EST-AA01\n",
            "O livro é: Estatística - Antônio Arnot\n"
          ]
        }
      ],
      "source": [
        "\n",
        "import openpyxl as op\n",
        "book = op.load_workbook('/content/gdrive/My Drive/SALA DO PET/PETOTECA/Arquivos pra teste de leitura e edição/PedroCopia.xlsx')\n",
        "sheet = book['Planilha1']\n",
        "cod = str(input('Digite o código do livro: '))\n",
        "for row in sheet.iter_rows(min_row=1, max_col=3, max_row=1103):\n",
        "    for cell in row:\n",
        "        if cod == cell.value:\n",
        "          print(f'O livro é: {sheet.cell(row=cell.row,column=2).value}')\n",
        "\n",
        "\n"
      ]
    }
  ],
  "metadata": {
    "colab": {
      "authorship_tag": "ABX9TyMIsnhDqC7kc/FAJaHRrx23",
      "include_colab_link": true,
      "name": "PedroChavesTeste",
      "provenance": []
    },
    "kernelspec": {
      "display_name": "Python 3.10.4 64-bit",
      "language": "python",
      "name": "python3"
    },
    "language_info": {
      "name": "python",
      "version": "3.10.4"
    },
    "vscode": {
      "interpreter": {
        "hash": "a06c546ee50c074f2464faa30d8d4a2f2372556c78144a45da6a0c70f136a441"
      }
    }
  },
  "nbformat": 4,
  "nbformat_minor": 0
}
