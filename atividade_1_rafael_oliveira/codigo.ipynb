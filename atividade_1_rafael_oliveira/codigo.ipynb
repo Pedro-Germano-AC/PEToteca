{
 "cells": [
  {
   "cell_type": "code",
   "execution_count": 40,
   "metadata": {},
   "outputs": [
    {
     "name": "stderr",
     "output_type": "stream",
     "text": [
      "c:\\Users\\srafa\\AppData\\Local\\Programs\\Python\\Python310\\lib\\site-packages\\openpyxl\\worksheet\\_reader.py:312: UserWarning: Unknown extension is not supported and will be removed\n",
      "  warn(msg)\n"
     ]
    },
    {
     "name": "stdout",
     "output_type": "stream",
     "text": [
      "O código FF-H209 corresponde ao livro \"Fundamentos de Física\"\n"
     ]
    }
   ],
   "source": [
    "import pandas as pd\n",
    "\n",
    "# Leitura do arquivo a partir da segunda linha da planilha\n",
    "dados = pd.read_excel('dados/dados_petoteca.xlsx', header=1)\n",
    "\n",
    "# Filtrando as colunas que irei usar e eliminando os valores NaN\n",
    "colunas_selecionadas = ['Título', 'Código']\n",
    "dados = dados.filter(items = colunas_selecionadas)\n",
    "dados.dropna(inplace=True)\n",
    "\n",
    "# Eliminando as linhas com os valores Título e Código\n",
    "dados.drop(dados[(dados['Título'] == 'Título') | (dados['Código'] == 'Código')].index, inplace = True)\n",
    "\n",
    "# Obtendo o livro a partir do código\n",
    "cod_livros = list(dados['Código'])\n",
    "nome_livros = list(dados['Título'])\n",
    "\n",
    "livro_escolhido = input('Informe o código do livro desejado: ')\n",
    "\n",
    "if livro_escolhido in cod_livros:\n",
    "    livro = nome_livros[cod_livros.index(livro_escolhido)]\n",
    "    print(f'O código {livro_escolhido} corresponde ao livro \"{livro}\"')\n",
    "\n",
    "else:\n",
    "    print('Informe um código válido')\n"
   ]
  }
 ],
 "metadata": {
  "kernelspec": {
   "display_name": "Python 3.10.4 64-bit",
   "language": "python",
   "name": "python3"
  },
  "language_info": {
   "codemirror_mode": {
    "name": "ipython",
    "version": 3
   },
   "file_extension": ".py",
   "mimetype": "text/x-python",
   "name": "python",
   "nbconvert_exporter": "python",
   "pygments_lexer": "ipython3",
   "version": "3.10.4"
  },
  "orig_nbformat": 4,
  "vscode": {
   "interpreter": {
    "hash": "a06c546ee50c074f2464faa30d8d4a2f2372556c78144a45da6a0c70f136a441"
   }
  }
 },
 "nbformat": 4,
 "nbformat_minor": 2
}
